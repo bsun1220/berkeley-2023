{
 "cells": [
  {
   "cell_type": "code",
   "execution_count": 1,
   "id": "571e9031-6256-42bf-9ab3-f6926cd422ae",
   "metadata": {},
   "outputs": [],
   "source": [
    "import numpy as np"
   ]
  },
  {
   "cell_type": "code",
   "execution_count": null,
   "id": "fc9251f6-7637-4ac3-bc3e-1c51cc13bd89",
   "metadata": {},
   "outputs": [],
   "source": [
    "seen = set([1,20,19,15])\n",
    "\n",
    "def bancroft(A, B, n, cards):\n",
    "    # A is the lower bound of cards\n",
    "    # B is the upper bound of cards\n",
    "    # n is the number of players\n",
    "    values = list(range(A, B + 1))\n",
    "    for i in values:\n",
    "        if i in seen or i == cards[0] or i == cards[1]:\n",
    "            values.remove(i)\n",
    "    mean_cards = sum(values)/len(values)\n",
    "    print(\"CARD EV IS \" + str(mean_cards))\n",
    "    mean_total = (n - 1) * 2 * mean_cards + cards[0] + cards[1]\n",
    "    print(\"SUM EV IS \" + str(mean_total))\n",
    "\n",
    "def reverse_engineer(A, B, n, bid, ask):\n",
    "    fv = (bid + ask)/2\n",
    "    print(\"FAIR VALUE IS \" + str(fv))\n",
    "    values = list(range(A, B + 1))\n",
    "    for i in values:\n",
    "        if i in seen:\n",
    "            values.remove(i)\n",
    "    unseen_EV = sum(values)/len(values)\n",
    "    print(unseen_EV)\n",
    "    cards = (fv) - ((n - 1) * unseen_EV)\n",
    "    print(\"EV TOTAL IS \" + str(cards))"
   ]
  },
  {
   "cell_type": "code",
   "execution_count": 3,
   "id": "6cc94182-b38d-4434-8f99-3b55e170f3c8",
   "metadata": {},
   "outputs": [],
   "source": [
    "A = 1\n",
    "B = 20\n",
    "n = 5\n",
    "my_hand = (2, 10)\n",
    "\n",
    "bid = 7 * n\n",
    "ask = 9 * n"
   ]
  },
  {
   "cell_type": "code",
   "execution_count": 57,
   "id": "70170a96-bb6f-47f3-8cce-192011236a38",
   "metadata": {},
   "outputs": [
    {
     "name": "stdout",
     "output_type": "stream",
     "text": [
      "CARD EV IS 10.3125\n",
      "SUM EV IS 94.5\n"
     ]
    }
   ],
   "source": [
    "bancroft(A, B, n, my_hand)"
   ]
  },
  {
   "cell_type": "code",
   "execution_count": 65,
   "id": "630e0d56-f19f-4eb7-b0c2-3bf546547c7e",
   "metadata": {},
   "outputs": [
    {
     "name": "stdout",
     "output_type": "stream",
     "text": [
      "FAIR VALUE IS 40.0\n",
      "10.294117647058824\n",
      "EV TOTAL IS -1.176470588235297\n"
     ]
    }
   ],
   "source": [
    "reverse_engineer(A, B, n, bid, ask)"
   ]
  },
  {
   "cell_type": "code",
   "execution_count": null,
   "id": "92ac774c-7a4b-45af-8ad2-0dccb77ce115",
   "metadata": {},
   "outputs": [],
   "source": []
  }
 ],
 "metadata": {
  "kernelspec": {
   "display_name": "Python 3 (ipykernel)",
   "language": "python",
   "name": "python3"
  },
  "language_info": {
   "codemirror_mode": {
    "name": "ipython",
    "version": 3
   },
   "file_extension": ".py",
   "mimetype": "text/x-python",
   "name": "python",
   "nbconvert_exporter": "python",
   "pygments_lexer": "ipython3",
   "version": "3.9.7"
  }
 },
 "nbformat": 4,
 "nbformat_minor": 5
}
