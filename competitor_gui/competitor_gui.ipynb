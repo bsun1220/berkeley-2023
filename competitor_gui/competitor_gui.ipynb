{
 "cells": [
  {
   "cell_type": "code",
   "execution_count": 1,
   "id": "241a98ec",
   "metadata": {},
   "outputs": [],
   "source": [
    "#%matplotlib notebook\n",
    "#%matplotlib widget\n",
    "\n",
    "import matplotlib.pyplot as plt\n",
    "from gui_utils import position_and_cash"
   ]
  },
  {
   "cell_type": "raw",
   "id": "84663e69-7565-41ec-8715-be13c3880439",
   "metadata": {},
   "source": [
    "\n",
    "\n",
    "20 Lots\n",
    "10 percent chance bots"
   ]
  },
  {
   "cell_type": "code",
   "execution_count": null,
   "id": "5540f374-0115-4938-828d-6c76080c0b9e",
   "metadata": {},
   "outputs": [],
   "source": []
  },
  {
   "cell_type": "code",
   "execution_count": null,
   "id": "31087280-f915-464c-804b-93eca8483d90",
   "metadata": {},
   "outputs": [],
   "source": []
  },
  {
   "cell_type": "code",
   "execution_count": null,
   "id": "edd809f3-c137-4464-9767-68970f211ba9",
   "metadata": {},
   "outputs": [],
   "source": []
  },
  {
   "cell_type": "code",
   "execution_count": null,
   "id": "98988345-5837-40fa-a57d-7d6c2565ceef",
   "metadata": {},
   "outputs": [],
   "source": []
  },
  {
   "cell_type": "code",
   "execution_count": 2,
   "id": "33777d3d",
   "metadata": {},
   "outputs": [
    {
     "data": {
      "image/png": "[encoded data removed]",
      "text/plain": [
       "<Figure size 640x480 with 2 Axes>"
      ]
     },
     "metadata": {},
     "output_type": "display_data"
    }
   ],
   "source": [
    "fig, (ax1, ax2) = plt.subplots(1, 2)\n",
    "plt.subplots_adjust(wspace=0.5)"
   ]
  },
  {
   "cell_type": "code",
   "execution_count": 3,
   "id": "a58fdd48",
   "metadata": {},
   "outputs": [],
   "source": [
    "position_and_cash(ax1, ax2, \n",
    "\"\"\"Order Optimization Game | Round 1\n",
    "    Team Team 1 : Score -5.0\n",
    "        buy_position: 4\n",
    "        sell_position: 0\n",
    "        average_buy_price: 103.0\n",
    "        average_sell_price: 0\n",
    "    Team Team 2 : Score -5.0\n",
    "        buy_position: 0\n",
    "        sell_position: 2\n",
    "        average_buy_price: 0\n",
    "        average_sell_price: 107.0\n",
    "    Team Team 3 : Score -5.0\n",
    "        buy_position: 0\n",
    "        sell_position: 0\n",
    "        average_buy_price: 0\n",
    "        average_sell_price: 0\"\"\")"
   ]
  },
  {
   "cell_type": "code",
   "execution_count": 4,
   "id": "f9c407c4",
   "metadata": {},
   "outputs": [],
   "source": [
    "position_and_cash(ax1, ax2, \"\"\"Order Optimization Game | Round 2\n",
    "    Team Team 1 : Score -5.0\n",
    "        buy_position: 12\n",
    "        sell_position: 0\n",
    "        average_buy_price: 102.2\n",
    "        average_sell_price: 0\n",
    "    Team Team 2 : Score -5.0\n",
    "        buy_position: 0\n",
    "        sell_position: 5\n",
    "        average_buy_price: 0\n",
    "        average_sell_price: 106.0\n",
    "    Team Team 3 : Score -5.0\n",
    "        buy_position: 2\n",
    "        sell_position: 0\n",
    "        average_buy_price: 101\n",
    "        average_sell_price: 0\"\"\")"
   ]
  },
  {
   "cell_type": "code",
   "execution_count": 5,
   "id": "084025e8",
   "metadata": {},
   "outputs": [],
   "source": [
    "position_and_cash(ax1, ax2, \"\"\"Order Optimization Game | Round 3\n",
    "    Team Team 1 : Score -5.0\n",
    "        buy_position: 10\n",
    "        sell_position: 2\n",
    "        average_buy_price: 102.2\n",
    "        average_sell_price: 103\n",
    "    Team Team 2 : Score -5.0\n",
    "        buy_position: 0\n",
    "        sell_position: 5\n",
    "        average_buy_price: 0\n",
    "        average_sell_price: 106.0\n",
    "    Team Team 3 : Score -5.0\n",
    "        buy_position: 7\n",
    "        sell_position: 0\n",
    "        average_buy_price: 104\n",
    "        average_sell_price: 0\"\"\")"
   ]
  },
  {
   "cell_type": "code",
   "execution_count": 6,
   "id": "3fac6e9f",
   "metadata": {},
   "outputs": [],
   "source": [
    "position_and_cash(ax1, ax2, \"\"\"Order Optimization Game | Round 4\n",
    "    Team Team 1 : Score -5.0\n",
    "        buy_position: 10\n",
    "        sell_position: 2\n",
    "        average_buy_price: 102.2\n",
    "        average_sell_price: 103\n",
    "    Team Team 2 : Score -5.0\n",
    "        buy_position: 0\n",
    "        sell_position: 5\n",
    "        average_buy_price: 0\n",
    "        average_sell_price: 106.0\n",
    "    Team Team 3 : Score -5.0\n",
    "        buy_position: 7\n",
    "        sell_position: 0\n",
    "        average_buy_price: 104\n",
    "        average_sell_price: 0\"\"\")"
   ]
  },
  {
   "cell_type": "code",
   "execution_count": null,
   "id": "c39a6250-7d1a-43e9-a21f-4553729a6b71",
   "metadata": {},
   "outputs": [],
   "source": []
  }
 ],
 "metadata": {
  "kernelspec": {
   "display_name": "Python 3 (ipykernel)",
   "language": "python",
   "name": "python3"
  },
  "language_info": {
   "codemirror_mode": {
    "name": "ipython",
    "version": 3
   },
   "file_extension": ".py",
   "mimetype": "text/x-python",
   "name": "python",
   "nbconvert_exporter": "python",
   "pygments_lexer": "ipython3",
   "version": "3.9.7"
  }
 },
 "nbformat": 4,
 "nbformat_minor": 5
}
