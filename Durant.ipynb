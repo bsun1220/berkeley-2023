{
 "cells": [
  {
   "cell_type": "code",
   "execution_count": 1,
   "id": "e3986db6-7b1f-4a28-a1ec-ae0ad8363dc8",
   "metadata": {},
   "outputs": [],
   "source": [
    "import numpy as np\n",
    "import matplotlib.pyplot as plt\n",
    "import pandas as pd\n",
    "import scipy.stats as stats\n",
    "from datetime import datetime\n",
    "import math\n",
    "import statsmodels.api as sm"
   ]
  },
  {
   "cell_type": "code",
   "execution_count": 2,
   "id": "5770bd6c-6e59-405e-8e0a-1cc386e5830d",
   "metadata": {},
   "outputs": [],
   "source": [
    "def bsm_calculator(timestamp: pd.Timestamp, future_spot: float, future_vol: float, strike: float) -> float:\n",
    "    \"\"\"Apply Black-Scholes-Merton to get fair value of ATM call.\n",
    "\n",
    "    Args:\n",
    "        timestamp (pd.Timestamp): Current pandas timestamp.\n",
    "        future_spot (float): Predicted, future spot price value.\n",
    "        future_vol (float): Predicted, future implied vol value.\n",
    "        strike (float): Strike price of contract.\n",
    "\n",
    "    Returns:\n",
    "        float: Fair value of call with strike equal to current spot price (ATM), at some point in the future.\n",
    "    \"\"\"\n",
    "    r = 0.05\n",
    "    tte = (pd.Timestamp('12-31-2023') - timestamp).days/365\n",
    "    d1 = (np.log(future_spot/strike) + (r + (future_vol**2)/2)*tte)/(future_vol*np.sqrt(tte))\n",
    "    d2 = d1 - future_vol*np.sqrt(tte)\n",
    "    return stats.norm.cdf(d1) * future_spot - stats.norm.cdf(d2)*strike*np.exp(-r*tte)"
   ]
  },
  {
   "cell_type": "code",
   "execution_count": 3,
   "id": "95712e4c-9290-4724-9ab6-234d9be7dc9c",
   "metadata": {},
   "outputs": [],
   "source": [
    "df = pd.read_csv(\"./durant/data.csv\")\n",
    "pred = pd.read_csv(\"./durant/sample_submission.csv\")\n",
    "df['t'] = pd.to_datetime(df['t'])\n",
    "df[\"date\"] = pd.to_datetime(df.t).dt.date.astype(str)\n",
    "df[\"time\"] = pd.to_datetime(df.t).dt.time.astype(str)"
   ]
  },
  {
   "cell_type": "raw",
   "id": "58d6e6cf-a148-4ac2-9ad0-95e1a18a30e9",
   "metadata": {},
   "source": [
    "#Basic EDA"
   ]
  },
  {
   "cell_type": "code",
   "execution_count": 4,
   "id": "19ee4c84-e2a5-4a43-a4de-6fb5f805c1d0",
   "metadata": {},
   "outputs": [
    {
     "data": {
      "image/png": "[encoded data removed]",
      "text/plain": [
       "<Figure size 432x288 with 1 Axes>"
      ]
     },
     "metadata": {
      "needs_background": "light"
     },
     "output_type": "display_data"
    }
   ],
   "source": [
    "counts = df.groupby(\"date\").count().values[:, 0]\n",
    "plt.hist(counts)\n",
    "plt.show()"
   ]
  },
  {
   "cell_type": "code",
   "execution_count": 5,
   "id": "71d14ba1-2a11-4fbe-ae34-20fdae3e6ac7",
   "metadata": {},
   "outputs": [
    {
     "name": "stdout",
     "output_type": "stream",
     "text": [
      "spot_A\n",
      "spot_B\n",
      "etf\n",
      "sigma_A\n",
      "sigma_B\n"
     ]
    }
   ],
   "source": [
    "names = [\"spot_A\",\"spot_B\", \"etf\", \"sigma_A\", \"sigma_B\"]\n",
    "\n",
    "for i in range(len(df)):\n",
    "    if df.loc[i, \"spot_A\"] == -1 and df.loc[i, \"spot_B\"] != -1 and df.loc[i, \"etf\"] != -1:\n",
    "        df.loc[i, \"spot_A\"] = df.loc[i, \"etf\"] - df.loc[i, \"spot_B\"]\n",
    "    elif df.loc[i, \"spot_B\"] == -1 and df.loc[i, \"spot_A\"] != -1 and df.loc[i, \"etf\"] != -1:\n",
    "        df.loc[i, \"spot_B\"] = df.loc[i, \"etf\"] - df.loc[i, \"spot_A\"]\n",
    "    elif df.loc[i, \"etf\"] == -1 and df.loc[i, \"spot_A\"] != -1 and df.loc[i, \"spot_B\"] != -1:\n",
    "        df.loc[i, \"etf\"] = df.loc[i, \"spot_B\"] + df.loc[i, \"spot_A\"]\n",
    "\n",
    "for name in names:\n",
    "    for i in range(len(df)):\n",
    "        if df.loc[i,name] != -1:\n",
    "            continue\n",
    "        if df.loc[i-1][\"date\"] == df.loc[i][\"date\"]:\n",
    "            df.loc[i,name] = df.loc[i - 1,name]\n",
    "\n",
    "    for i in range(len(df) - 1, -1, -1):\n",
    "        if df.loc[i,name] != -1:\n",
    "            continue\n",
    "        if df.loc[i + 1][\"date\"] == df.loc[i][\"date\"]:\n",
    "            df.loc[i,name] = df.loc[i + 1,name]\n",
    "    print(name)"
   ]
  },
  {
   "cell_type": "code",
   "execution_count": 6,
   "id": "9eb811a9-b2f8-4cb8-a16b-f21ca5bf609b",
   "metadata": {},
   "outputs": [
    {
     "name": "stdout",
     "output_type": "stream",
     "text": [
      "-0.35407650573234417\n",
      "47.46741823265418\n"
     ]
    },
    {
     "data": {
      "image/png": "[encoded data removed]",
      "text/plain": [
       "<Figure size 432x288 with 1 Axes>"
      ]
     },
     "metadata": {
      "needs_background": "light"
     },
     "output_type": "display_data"
    }
   ],
   "source": [
    "(df[\"etf\"] - df[\"spot_A\"] - df[\"spot_B\"]).hist()\n",
    "print((df[\"etf\"] - df[\"spot_A\"] - df[\"spot_B\"]).mean())\n",
    "print((df[\"etf\"] - df[\"spot_A\"] - df[\"spot_B\"]).std())\n",
    "plt.show()"
   ]
  },
  {
   "cell_type": "code",
   "execution_count": 7,
   "id": "91c18e95-7bae-4043-bd61-7b5fc175c179",
   "metadata": {},
   "outputs": [],
   "source": [
    "df['etf_diff'] = df[\"etf\"] - df[\"spot_A\"] - df[\"spot_B\"]"
   ]
  },
  {
   "cell_type": "code",
   "execution_count": 8,
   "id": "e128779f-e955-43dd-862b-284135e6845b",
   "metadata": {},
   "outputs": [],
   "source": [
    "strikes = df.groupby('date').last()['spot_A']\n",
    "times = df.groupby('date').last()['t']\n",
    "vol = df.groupby('date').last()['sigma_A']"
   ]
  },
  {
   "cell_type": "code",
   "execution_count": 9,
   "id": "0af027fe-e11e-4453-9af5-825ac55f7a77",
   "metadata": {},
   "outputs": [],
   "source": [
    "def func(x):\n",
    "    return x[-500:].mean()\n",
    "def var_func(x):\n",
    "    return x[-500:].var()"
   ]
  },
  {
   "cell_type": "code",
   "execution_count": 10,
   "id": "8c0332ba-102b-4bcd-b48b-b130aa12a862",
   "metadata": {},
   "outputs": [
    {
     "name": "stderr",
     "output_type": "stream",
     "text": [
      "/var/folders/7s/6wrlqwfs5y1g71y3cg83c94c0000gn/T/ipykernel_63994/2489322079.py:2: FutureWarning: The behavior of `series[i:j]` with an integer-dtype index is deprecated. In a future version, this will be treated as *label-based* indexing, consistent with e.g. `series[i]` lookups. To retain the old behavior, use `series.iloc[i:j]`. To get the future behavior, use `series.loc[i:j]`.\n",
      "  return x[-500:].mean()\n",
      "/var/folders/7s/6wrlqwfs5y1g71y3cg83c94c0000gn/T/ipykernel_63994/2489322079.py:2: FutureWarning: The behavior of `series[i:j]` with an integer-dtype index is deprecated. In a future version, this will be treated as *label-based* indexing, consistent with e.g. `series[i]` lookups. To retain the old behavior, use `series.iloc[i:j]`. To get the future behavior, use `series.loc[i:j]`.\n",
      "  return x[-500:].mean()\n"
     ]
    }
   ],
   "source": [
    "from scipy.optimize import curve_fit\n",
    "from scipy.ndimage import gaussian_filter\n",
    "\n",
    "Aspot_trend = df.groupby('date').spot_A.apply(lambda x : func(x))\n",
    "Bspot_trend = df.groupby('date').spot_B.apply(lambda x : func(x))\n",
    "etf_trend = df.groupby('date').etf.mean()\n",
    "\n",
    "A_trend = gaussian_filter(Aspot_trend, sigma = 5)\n",
    "B_trend = gaussian_filter(Bspot_trend, sigma = 5)\n",
    "etf_trend = gaussian_filter(etf_trend, sigma = 5)\n",
    "\n",
    "trend_df = pd.DataFrame(A_trend, columns = ['A_trend'])\n",
    "trend_df.index = Aspot_trend.index\n",
    "trend_df['B_trend'] = B_trend\n",
    "trend_df['etf_trend'] = etf_trend\n",
    "trend_df = trend_df.reset_index()\n",
    "df = pd.merge(df, trend_df, on = ['date'])"
   ]
  },
  {
   "cell_type": "code",
   "execution_count": 11,
   "id": "941aa8b9-cff3-475e-a723-df93174b893e",
   "metadata": {},
   "outputs": [],
   "source": [
    "sigma_trend = df.groupby('date').sigma_A.mean()\n",
    "sigma_trend = pd.DataFrame(gaussian_filter(sigma_trend, sigma= 10), columns = ['sigma_A_trend'])\n",
    "sigma_trend.index = Aspot_trend.index\n",
    "sigma_trend = sigma_trend.reset_index()\n",
    "df = pd.merge(df, sigma_trend, on = ['date'])"
   ]
  },
  {
   "cell_type": "code",
   "execution_count": 12,
   "id": "bf549e19-8b64-463f-86c5-f75bf6ace28b",
   "metadata": {},
   "outputs": [],
   "source": [
    "trends = pd.merge(trend_df, sigma_trend, on = ['date'])"
   ]
  },
  {
   "cell_type": "code",
   "execution_count": 13,
   "id": "22ce05cd-5895-4d6d-8b19-bcdbd9e2dd51",
   "metadata": {},
   "outputs": [],
   "source": [
    "trends['strike'] = strikes.values\n",
    "trends['time'] = times.values\n",
    "trends['vol'] = vol.values"
   ]
  },
  {
   "cell_type": "code",
   "execution_count": 14,
   "id": "bc142df3-b6f7-4e81-9c0f-79ffd60f9455",
   "metadata": {},
   "outputs": [
    {
     "data": {
      "text/html": [
       "<div>\n",
       "<style scoped>\n",
       "    .dataframe tbody tr th:only-of-type {\n",
       "        vertical-align: middle;\n",
       "    }\n",
       "\n",
       "    .dataframe tbody tr th {\n",
       "        vertical-align: top;\n",
       "    }\n",
       "\n",
       "    .dataframe thead th {\n",
       "        text-align: right;\n",
       "    }\n",
       "</style>\n",
       "<table border=\"1\" class=\"dataframe\">\n",
       "  <thead>\n",
       "    <tr style=\"text-align: right;\">\n",
       "      <th></th>\n",
       "      <th>date</th>\n",
       "      <th>A_trend</th>\n",
       "      <th>B_trend</th>\n",
       "      <th>etf_trend</th>\n",
       "      <th>sigma_A_trend</th>\n",
       "      <th>strike</th>\n",
       "      <th>time</th>\n",
       "      <th>vol</th>\n",
       "    </tr>\n",
       "  </thead>\n",
       "  <tbody>\n",
       "    <tr>\n",
       "      <th>0</th>\n",
       "      <td>2022-10-01</td>\n",
       "      <td>218.038155</td>\n",
       "      <td>148.493518</td>\n",
       "      <td>366.135905</td>\n",
       "      <td>0.211868</td>\n",
       "      <td>219.930767</td>\n",
       "      <td>2022-10-01 10:19:00</td>\n",
       "      <td>0.161212</td>\n",
       "    </tr>\n",
       "    <tr>\n",
       "      <th>1</th>\n",
       "      <td>2022-10-02</td>\n",
       "      <td>218.051004</td>\n",
       "      <td>148.465568</td>\n",
       "      <td>366.114082</td>\n",
       "      <td>0.211832</td>\n",
       "      <td>218.850921</td>\n",
       "      <td>2022-10-02 09:40:00</td>\n",
       "      <td>0.158851</td>\n",
       "    </tr>\n",
       "    <tr>\n",
       "      <th>2</th>\n",
       "      <td>2022-10-03</td>\n",
       "      <td>218.076605</td>\n",
       "      <td>148.411213</td>\n",
       "      <td>366.071265</td>\n",
       "      <td>0.211758</td>\n",
       "      <td>221.562771</td>\n",
       "      <td>2022-10-03 13:29:00</td>\n",
       "      <td>0.243387</td>\n",
       "    </tr>\n",
       "    <tr>\n",
       "      <th>3</th>\n",
       "      <td>2022-10-04</td>\n",
       "      <td>218.114590</td>\n",
       "      <td>148.333315</td>\n",
       "      <td>366.009124</td>\n",
       "      <td>0.211650</td>\n",
       "      <td>218.029213</td>\n",
       "      <td>2022-10-04 13:13:00</td>\n",
       "      <td>0.090147</td>\n",
       "    </tr>\n",
       "    <tr>\n",
       "      <th>4</th>\n",
       "      <td>2022-10-05</td>\n",
       "      <td>218.164206</td>\n",
       "      <td>148.235727</td>\n",
       "      <td>365.930254</td>\n",
       "      <td>0.211508</td>\n",
       "      <td>210.116171</td>\n",
       "      <td>2022-10-05 15:36:00</td>\n",
       "      <td>0.352944</td>\n",
       "    </tr>\n",
       "    <tr>\n",
       "      <th>...</th>\n",
       "      <td>...</td>\n",
       "      <td>...</td>\n",
       "      <td>...</td>\n",
       "      <td>...</td>\n",
       "      <td>...</td>\n",
       "      <td>...</td>\n",
       "      <td>...</td>\n",
       "      <td>...</td>\n",
       "    </tr>\n",
       "    <tr>\n",
       "      <th>146</th>\n",
       "      <td>2023-02-24</td>\n",
       "      <td>193.454042</td>\n",
       "      <td>157.858596</td>\n",
       "      <td>351.745666</td>\n",
       "      <td>0.208797</td>\n",
       "      <td>192.514298</td>\n",
       "      <td>2023-02-24 16:28:00</td>\n",
       "      <td>0.079175</td>\n",
       "    </tr>\n",
       "    <tr>\n",
       "      <th>147</th>\n",
       "      <td>2023-02-25</td>\n",
       "      <td>193.354823</td>\n",
       "      <td>157.888357</td>\n",
       "      <td>351.769183</td>\n",
       "      <td>0.208656</td>\n",
       "      <td>194.586357</td>\n",
       "      <td>2023-02-25 14:50:00</td>\n",
       "      <td>0.279188</td>\n",
       "    </tr>\n",
       "    <tr>\n",
       "      <th>148</th>\n",
       "      <td>2023-02-26</td>\n",
       "      <td>193.275623</td>\n",
       "      <td>157.912065</td>\n",
       "      <td>351.792441</td>\n",
       "      <td>0.208551</td>\n",
       "      <td>193.476197</td>\n",
       "      <td>2023-02-26 13:23:00</td>\n",
       "      <td>0.090660</td>\n",
       "    </tr>\n",
       "    <tr>\n",
       "      <th>149</th>\n",
       "      <td>2023-02-27</td>\n",
       "      <td>193.220328</td>\n",
       "      <td>157.928580</td>\n",
       "      <td>351.810739</td>\n",
       "      <td>0.208481</td>\n",
       "      <td>193.909495</td>\n",
       "      <td>2023-02-27 10:31:00</td>\n",
       "      <td>0.111301</td>\n",
       "    </tr>\n",
       "    <tr>\n",
       "      <th>150</th>\n",
       "      <td>2023-02-28</td>\n",
       "      <td>193.191912</td>\n",
       "      <td>157.937070</td>\n",
       "      <td>351.820878</td>\n",
       "      <td>0.208446</td>\n",
       "      <td>198.051456</td>\n",
       "      <td>2023-02-28 09:14:00</td>\n",
       "      <td>0.117204</td>\n",
       "    </tr>\n",
       "  </tbody>\n",
       "</table>\n",
       "<p>151 rows × 8 columns</p>\n",
       "</div>"
      ],
      "text/plain": [
       "           date     A_trend     B_trend   etf_trend  sigma_A_trend  \\\n",
       "0    2022-10-01  218.038155  148.493518  366.135905       0.211868   \n",
       "1    2022-10-02  218.051004  148.465568  366.114082       0.211832   \n",
       "2    2022-10-03  218.076605  148.411213  366.071265       0.211758   \n",
       "3    2022-10-04  218.114590  148.333315  366.009124       0.211650   \n",
       "4    2022-10-05  218.164206  148.235727  365.930254       0.211508   \n",
       "..          ...         ...         ...         ...            ...   \n",
       "146  2023-02-24  193.454042  157.858596  351.745666       0.208797   \n",
       "147  2023-02-25  193.354823  157.888357  351.769183       0.208656   \n",
       "148  2023-02-26  193.275623  157.912065  351.792441       0.208551   \n",
       "149  2023-02-27  193.220328  157.928580  351.810739       0.208481   \n",
       "150  2023-02-28  193.191912  157.937070  351.820878       0.208446   \n",
       "\n",
       "         strike                time       vol  \n",
       "0    219.930767 2022-10-01 10:19:00  0.161212  \n",
       "1    218.850921 2022-10-02 09:40:00  0.158851  \n",
       "2    221.562771 2022-10-03 13:29:00  0.243387  \n",
       "3    218.029213 2022-10-04 13:13:00  0.090147  \n",
       "4    210.116171 2022-10-05 15:36:00  0.352944  \n",
       "..          ...                 ...       ...  \n",
       "146  192.514298 2023-02-24 16:28:00  0.079175  \n",
       "147  194.586357 2023-02-25 14:50:00  0.279188  \n",
       "148  193.476197 2023-02-26 13:23:00  0.090660  \n",
       "149  193.909495 2023-02-27 10:31:00  0.111301  \n",
       "150  198.051456 2023-02-28 09:14:00  0.117204  \n",
       "\n",
       "[151 rows x 8 columns]"
      ]
     },
     "execution_count": 14,
     "metadata": {},
     "output_type": "execute_result"
    }
   ],
   "source": [
    "trends"
   ]
  },
  {
   "cell_type": "code",
   "execution_count": 16,
   "id": "6e806a73-6050-46a4-9e58-f3739e9d7320",
   "metadata": {},
   "outputs": [
    {
     "data": {
      "text/plain": [
       "0.5099337748344371"
      ]
     },
     "execution_count": 16,
     "metadata": {},
     "output_type": "execute_result"
    }
   ],
   "source": [
    "lst = []\n",
    "for row in trends.iterrows():\n",
    "    val = row[1]\n",
    "    current_val = bsm_calculator(val['time'], val['strike'], val['vol'], val['strike'])\n",
    "    future_val = bsm_calculator(val['time'] + pd.Timedelta(1, 'hour'), val['A_trend'], val['sigma_A_trend'], val['strike'])\n",
    "    if future_val > current_val:\n",
    "        lst.append(1)\n",
    "    else:\n",
    "        lst.append(0)\n",
    "sum(lst)/len(lst)"
   ]
  },
  {
   "cell_type": "code",
   "execution_count": 15,
   "id": "19d88a79-e121-41d0-8a28-0d50bb621308",
   "metadata": {},
   "outputs": [],
   "source": [
    "df['spot_A_d'] = df['spot_A'] - df['A_trend']\n",
    "df['spot_B_d'] = df['spot_B'] - df['B_trend']\n",
    "df['etf_d'] = df['etf'] - df['etf_trend']\n",
    "df['sigma_A_d'] = df['sigma_A'] - df['sigma_A_trend']"
   ]
  },
  {
   "cell_type": "code",
   "execution_count": 16,
   "id": "66a11cf0-c8f2-4ff8-aced-1e9aeaac0f74",
   "metadata": {},
   "outputs": [
    {
     "name": "stderr",
     "output_type": "stream",
     "text": [
      "/var/folders/7s/6wrlqwfs5y1g71y3cg83c94c0000gn/T/ipykernel_63994/2489322079.py:4: FutureWarning: The behavior of `series[i:j]` with an integer-dtype index is deprecated. In a future version, this will be treated as *label-based* indexing, consistent with e.g. `series[i]` lookups. To retain the old behavior, use `series.iloc[i:j]`. To get the future behavior, use `series.loc[i:j]`.\n",
      "  return x[-500:].var()\n",
      "/var/folders/7s/6wrlqwfs5y1g71y3cg83c94c0000gn/T/ipykernel_63994/2489322079.py:4: FutureWarning: The behavior of `series[i:j]` with an integer-dtype index is deprecated. In a future version, this will be treated as *label-based* indexing, consistent with e.g. `series[i]` lookups. To retain the old behavior, use `series.iloc[i:j]`. To get the future behavior, use `series.loc[i:j]`.\n",
      "  return x[-500:].var()\n",
      "/var/folders/7s/6wrlqwfs5y1g71y3cg83c94c0000gn/T/ipykernel_63994/2489322079.py:4: FutureWarning: The behavior of `series[i:j]` with an integer-dtype index is deprecated. In a future version, this will be treated as *label-based* indexing, consistent with e.g. `series[i]` lookups. To retain the old behavior, use `series.iloc[i:j]`. To get the future behavior, use `series.loc[i:j]`.\n",
      "  return x[-500:].var()\n"
     ]
    }
   ],
   "source": [
    "fe = trends.copy()\n",
    "x1 = df.groupby('date')['spot_B_d'].apply(lambda x : var_func(x)).values\n",
    "x2 = df.groupby('date')['etf_d'].apply(lambda x : var_func(x)).values\n",
    "x3 = df.groupby('date')['spot_A_d'].apply(lambda x : var_func(x)).values\n",
    "fe['a_vol'] = x1\n",
    "fe['etf_vol'] = x2\n",
    "fe['b_vol'] = x3\n",
    "\n",
    "fe['spot_b_d_mean'] = df.groupby('date')['spot_B_d'].mean().values\n",
    "fe['etf_d_mean'] = df.groupby('date')['etf_d'].mean().values\n",
    "\n",
    "fe['constant'] = 1"
   ]
  },
  {
   "cell_type": "code",
   "execution_count": 17,
   "id": "59f1ecee-4d0d-4ae1-8aab-3f3fd76589a4",
   "metadata": {},
   "outputs": [
    {
     "data": {
      "image/png": "[encoded data removed]",
      "text/plain": [
       "<Figure size 432x288 with 1 Axes>"
      ]
     },
     "metadata": {
      "needs_background": "light"
     },
     "output_type": "display_data"
    }
   ],
   "source": [
    "spot_data = df.groupby('time')['spot_A_d'].mean()\n",
    "plt.plot(df.groupby('time')['spot_A_d'].mean())\n",
    "plt.show()"
   ]
  },
  {
   "cell_type": "code",
   "execution_count": 18,
   "id": "76848ec2-3279-4a29-99f6-49b6953c8547",
   "metadata": {},
   "outputs": [
    {
     "data": {
      "image/png": "[encoded data removed]",
      "text/plain": [
       "<Figure size 432x288 with 1 Axes>"
      ]
     },
     "metadata": {
      "needs_background": "light"
     },
     "output_type": "display_data"
    }
   ],
   "source": [
    "sigma_data = df.groupby('time')['sigma_A_d'].mean()\n",
    "plt.plot(df.groupby('time')['sigma_A_d'].mean())\n",
    "plt.show()"
   ]
  },
  {
   "cell_type": "code",
   "execution_count": 19,
   "id": "e0d21337-da0a-4f13-83f3-2abaf3daaf91",
   "metadata": {},
   "outputs": [],
   "source": [
    "fe['count'] = df.groupby('date')['spot_A'].count().values"
   ]
  },
  {
   "cell_type": "code",
   "execution_count": 20,
   "id": "c98a4b7f-c294-4a04-bd05-b4d23add3f98",
   "metadata": {},
   "outputs": [],
   "source": [
    "def get_spot_bin(count):\n",
    "    return spot_data.iloc[count+60:].mean()\n",
    "def get_sigma_bin(count):\n",
    "    return sigma_data.iloc[count+60:].mean()"
   ]
  },
  {
   "cell_type": "code",
   "execution_count": 21,
   "id": "d0e6dfe7-2967-4fa5-9ba1-55aede7cfc6e",
   "metadata": {},
   "outputs": [],
   "source": [
    "fe['spot_time_trend'] = fe['count'].apply(lambda x: get_spot_bin(x))\n",
    "fe['sigma_time_trend']  = fe['count'].apply(lambda x: get_sigma_bin(x))"
   ]
  },
  {
   "cell_type": "code",
   "execution_count": 22,
   "id": "df3e0758-4bd6-4987-bd0a-e6b54abfd213",
   "metadata": {},
   "outputs": [
    {
     "name": "stderr",
     "output_type": "stream",
     "text": [
      "/var/folders/7s/6wrlqwfs5y1g71y3cg83c94c0000gn/T/ipykernel_63994/2489322079.py:4: FutureWarning: The behavior of `series[i:j]` with an integer-dtype index is deprecated. In a future version, this will be treated as *label-based* indexing, consistent with e.g. `series[i]` lookups. To retain the old behavior, use `series.iloc[i:j]`. To get the future behavior, use `series.loc[i:j]`.\n",
      "  return x[-500:].var()\n",
      "/var/folders/7s/6wrlqwfs5y1g71y3cg83c94c0000gn/T/ipykernel_63994/2489322079.py:4: FutureWarning: The behavior of `series[i:j]` with an integer-dtype index is deprecated. In a future version, this will be treated as *label-based* indexing, consistent with e.g. `series[i]` lookups. To retain the old behavior, use `series.iloc[i:j]`. To get the future behavior, use `series.loc[i:j]`.\n",
      "  return x[-500:].var()\n",
      "/var/folders/7s/6wrlqwfs5y1g71y3cg83c94c0000gn/T/ipykernel_63994/2489322079.py:4: FutureWarning: The behavior of `series[i:j]` with an integer-dtype index is deprecated. In a future version, this will be treated as *label-based* indexing, consistent with e.g. `series[i]` lookups. To retain the old behavior, use `series.iloc[i:j]`. To get the future behavior, use `series.loc[i:j]`.\n",
      "  return x[-500:].var()\n"
     ]
    },
    {
     "ename": "NameError",
     "evalue": "name 'x4' is not defined",
     "output_type": "error",
     "traceback": [
      "\u001b[0;31m---------------------------------------------------------------------------\u001b[0m",
      "\u001b[0;31mNameError\u001b[0m                                 Traceback (most recent call last)",
      "\u001b[0;32m/var/folders/7s/6wrlqwfs5y1g71y3cg83c94c0000gn/T/ipykernel_63994/2354928577.py\u001b[0m in \u001b[0;36m<module>\u001b[0;34m\u001b[0m\n\u001b[1;32m      8\u001b[0m \u001b[0mmodel_df\u001b[0m\u001b[0;34m[\u001b[0m\u001b[0;34m'x2'\u001b[0m\u001b[0;34m]\u001b[0m \u001b[0;34m=\u001b[0m \u001b[0mx2\u001b[0m\u001b[0;34m\u001b[0m\u001b[0;34m\u001b[0m\u001b[0m\n\u001b[1;32m      9\u001b[0m \u001b[0mmodel_df\u001b[0m\u001b[0;34m[\u001b[0m\u001b[0;34m'x3'\u001b[0m\u001b[0;34m]\u001b[0m \u001b[0;34m=\u001b[0m \u001b[0mx3\u001b[0m\u001b[0;34m\u001b[0m\u001b[0;34m\u001b[0m\u001b[0m\n\u001b[0;32m---> 10\u001b[0;31m \u001b[0mmodel_df\u001b[0m\u001b[0;34m[\u001b[0m\u001b[0;34m'x4'\u001b[0m\u001b[0;34m]\u001b[0m \u001b[0;34m=\u001b[0m \u001b[0mx4\u001b[0m\u001b[0;34m\u001b[0m\u001b[0;34m\u001b[0m\u001b[0m\n\u001b[0m\u001b[1;32m     11\u001b[0m \u001b[0mmodel_df\u001b[0m\u001b[0;34m[\u001b[0m\u001b[0;34m'sigma_A_d'\u001b[0m\u001b[0;34m]\u001b[0m \u001b[0;34m=\u001b[0m \u001b[0mdf\u001b[0m\u001b[0;34m.\u001b[0m\u001b[0mgroupby\u001b[0m\u001b[0;34m(\u001b[0m\u001b[0;34m'date'\u001b[0m\u001b[0;34m)\u001b[0m\u001b[0;34m[\u001b[0m\u001b[0;34m'sigma_A_d'\u001b[0m\u001b[0;34m]\u001b[0m\u001b[0;34m.\u001b[0m\u001b[0mmean\u001b[0m\u001b[0;34m(\u001b[0m\u001b[0;34m)\u001b[0m\u001b[0;34m.\u001b[0m\u001b[0mvalues\u001b[0m\u001b[0;34m\u001b[0m\u001b[0;34m\u001b[0m\u001b[0m\n\u001b[1;32m     12\u001b[0m \u001b[0mmodel_df\u001b[0m \u001b[0;34m=\u001b[0m \u001b[0mmodel_df\u001b[0m\u001b[0;34m.\u001b[0m\u001b[0mdropna\u001b[0m\u001b[0;34m(\u001b[0m\u001b[0;34m)\u001b[0m\u001b[0;34m\u001b[0m\u001b[0;34m\u001b[0m\u001b[0m\n",
      "\u001b[0;31mNameError\u001b[0m: name 'x4' is not defined"
     ]
    }
   ],
   "source": [
    "import statsmodels.api as sm\n",
    "x1 = df.groupby('date')['spot_B_d'].apply(lambda x: var_func(x)).values\n",
    "x2 = df.groupby('date')['etf_d'].apply(lambda x: var_func(x)).values\n",
    "x3 = df.groupby('date')['spot_A_d'].apply(lambda x: var_func(x)).values\n",
    "#x4 = df.groupby('date')['etf_diff'].mean().values\n",
    "model_df = pd.DataFrame()\n",
    "model_df['x1'] = x1\n",
    "model_df['x2'] = x2\n",
    "model_df['x3'] = x3\n",
    "model_df['x4'] = x4\n",
    "model_df['sigma_A_d'] = df.groupby('date')['sigma_A_d'].mean().values\n",
    "model_df = model_df.dropna()\n",
    "X = model_df[['x1','x3']]\n",
    "X = sm.add_constant(X)\n",
    "y = model_df['sigma_A_d'] \n",
    "mod = sm.OLS(y, X)\n",
    "res_sigma = mod.fit()\n",
    "res_sigma.summary()"
   ]
  },
  {
   "cell_type": "code",
   "execution_count": null,
   "id": "8c4839a6-a21a-493c-9ef9-5eddb843ef0d",
   "metadata": {},
   "outputs": [],
   "source": [
    "import statsmodels.api as sm\n",
    "x1 = df.groupby('date')['spot_B_d'].mean().values\n",
    "x2 = df.groupby('date')['etf_d'].mean().values\n",
    "x3 = df.groupby('date')['etf_diff'].mean().values\n",
    "model_df = pd.DataFrame()\n",
    "model_df['x1'] = x1\n",
    "model_df['x2'] = x2\n",
    "model_df['x3'] = x3\n",
    "model_df['spot_A_d'] = df.groupby('date')['spot_A_d'].mean().values #- fe['spot_time_trend']\n",
    "model_df = model_df.dropna()\n",
    "X = model_df[['x1','x2', 'x3']]\n",
    "X = sm.add_constant(X)\n",
    "y = model_df['spot_A_d']\n",
    "mod = sm.OLS(y, X)\n",
    "res_spot = mod.fit()\n",
    "res_spot.summary()"
   ]
  },
  {
   "cell_type": "code",
   "execution_count": null,
   "id": "4032163e-dc8a-45ca-8e39-6bae39ffe9dd",
   "metadata": {},
   "outputs": [],
   "source": [
    "fe['etf_diff'] = df.groupby('date')['etf_diff'].mean().values"
   ]
  },
  {
   "cell_type": "code",
   "execution_count": 71,
   "id": "7277d82a-3ff4-4cb3-9d48-f96837213e33",
   "metadata": {},
   "outputs": [],
   "source": [
    "fe['sigma_pred'] = fe['sigma_A_trend'] - 0.45 * res_sigma.predict(fe[['constant','b_vol','a_vol']])\n",
    "fe['spot_pred'] = fe['A_trend'] + res_spot.predict(fe[['constant','spot_b_d_mean', 'etf_d_mean', 'etf_diff']])"
   ]
  },
  {
   "cell_type": "code",
   "execution_count": 72,
   "id": "6fab4a4e-3d11-4ed1-a845-fef9dee8ba12",
   "metadata": {},
   "outputs": [],
   "source": [
    "lst2 = []\n",
    "for row in fe.iterrows():\n",
    "    val = row[1]\n",
    "    current_val = bsm_calculator(val['time'], val['strike'], val['vol'], val['strike'])\n",
    "    future_val = bsm_calculator(val['time'] + pd.Timedelta(1, 'hour'), val['spot_pred'], val['sigma_pred'], val['strike'])\n",
    "    if future_val > current_val:\n",
    "        lst2.append(1)\n",
    "    else:\n",
    "        lst2.append(0)"
   ]
  },
  {
   "cell_type": "code",
   "execution_count": 212,
   "id": "70ef784c-44e4-4f93-a2b6-bfaa38f6a761",
   "metadata": {},
   "outputs": [
    {
     "name": "stdout",
     "output_type": "stream",
     "text": [
      "42\n",
      "49\n",
      "65\n",
      "100\n",
      "104\n",
      "108\n",
      "129\n"
     ]
    }
   ],
   "source": [
    "for i in range(len(lst2)):\n",
    "    if lst[i] != lst2[i]:\n",
    "        print(i)\n",
    "#print(mean(lst2))"
   ]
  },
  {
   "cell_type": "code",
   "execution_count": 213,
   "id": "c63a2e69-4e16-49f5-9cd5-9153f73d00d3",
   "metadata": {},
   "outputs": [],
   "source": [
    "#fe['spot_pred'] = df.groupby('date')['spot_A'].mean().values\n",
    "fe['spot_pred'] = fe['A_trend'] + res_spot.predict(fe[['constant','spot_b_d_mean', 'etf_d_mean', 'etf_diff']])\n",
    "fe['sigma_pred'] = df.groupby('date')['sigma_A'].mean().values\n",
    "\n",
    "lst2 = []\n",
    "for row in fe.iterrows():\n",
    "    val = row[1]\n",
    "    current_val = bsm_calculator(val['time'], val['strike'], val['vol'], val['strike'])\n",
    "    future_val = bsm_calculator(val['time'] + pd.Timedelta(1, 'hour'), val['spot_pred'], val['sigma_pred'], val['strike'])\n",
    "    if future_val > current_val:\n",
    "        lst2.append(1)\n",
    "    else:\n",
    "        lst2.append(0)"
   ]
  },
  {
   "cell_type": "code",
   "execution_count": 82,
   "id": "27b08332-6f64-49c6-97c8-e7e8b4aef8a7",
   "metadata": {},
   "outputs": [
    {
     "data": {
      "image/png": "[encoded data removed]",
      "text/plain": [
       "<Figure size 432x288 with 1 Axes>"
      ]
     },
     "metadata": {
      "needs_background": "light"
     },
     "output_type": "display_data"
    }
   ],
   "source": [
    "df['sigma_A'].plot()\n",
    "plt.show()"
   ]
  },
  {
   "cell_type": "code",
   "execution_count": 80,
   "id": "7c028440-4a9f-4d03-b4e5-cf155d79c9fb",
   "metadata": {},
   "outputs": [
    {
     "data": {
      "image/png": "[encoded data removed]",
      "text/plain": [
       "<Figure size 432x288 with 1 Axes>"
      ]
     },
     "metadata": {
      "needs_background": "light"
     },
     "output_type": "display_data"
    }
   ],
   "source": [
    "df['sigma_A'].hist()\n",
    "plt.show()"
   ]
  },
  {
   "cell_type": "code",
   "execution_count": 83,
   "id": "1f0a05d3-a8e8-4774-8b98-4dfa6733be6d",
   "metadata": {},
   "outputs": [
    {
     "data": {
      "text/plain": [
       "0.16011410598195017"
      ]
     },
     "execution_count": 83,
     "metadata": {},
     "output_type": "execute_result"
    }
   ],
   "source": [
    "df[df['sigma_A'] < 0.3]['sigma_A'].mean()"
   ]
  },
  {
   "cell_type": "code",
   "execution_count": 94,
   "id": "ec17f62c-4a0b-4662-bd40-542fa9f7cfea",
   "metadata": {},
   "outputs": [
    {
     "data": {
      "image/png": "[encoded data removed]",
      "text/plain": [
       "<Figure size 432x288 with 1 Axes>"
      ]
     },
     "metadata": {
      "needs_background": "light"
     },
     "output_type": "display_data"
    }
   ],
   "source": [
    "plt.plot(df.groupby('date')['sigma_A'].mean())\n",
    "plt.show()"
   ]
  },
  {
   "cell_type": "code",
   "execution_count": 159,
   "id": "373a3acf-73ec-4fd9-b901-e848a32ffa70",
   "metadata": {},
   "outputs": [],
   "source": [
    "from scipy.optimize import curve_fit"
   ]
  },
  {
   "cell_type": "code",
   "execution_count": 206,
   "id": "8b8d0073-cf4e-4909-a4ed-f27eef440b1d",
   "metadata": {},
   "outputs": [
    {
     "data": {
      "image/png": "[encoded data removed]",
      "text/plain": [
       "<Figure size 432x288 with 1 Axes>"
      ]
     },
     "metadata": {
      "needs_background": "light"
     },
     "output_type": "display_data"
    }
   ],
   "source": [
    "filtered_data = gaussian_filter(df.loc[df['date'] == '2022-11-30', 'sigma_A'], sigma = 20)\n",
    "def sin_curve(x, a, b, c):\n",
    "    return a + b * np.sin(x + c)\n",
    "\n",
    "results = curve_fit(sin_curve, range(0, len(filtered_data)), filtered_data)\n",
    "a, b, c = results[0]\n",
    "\n",
    "file = pd.DataFrame()\n",
    "file['data'] = range(0, len(filtered_data))\n",
    "\n",
    "\n",
    "plt.plot(filtered_data)\n",
    "plt.plot(file['data'].apply(lambda x : sin_curve(x, a, b, c)))\n",
    "plt.show()"
   ]
  },
  {
   "cell_type": "code",
   "execution_count": 205,
   "id": "ac8ea79d-1768-42f8-b662-32cf92ae784e",
   "metadata": {},
   "outputs": [
    {
     "data": {
      "text/plain": [
       "(array([ 2.19396522e-01, -1.88258021e-05,  1.18543559e+00]),\n",
       " array([[ 1.62283855e-08,  5.92652274e-12, -2.01195890e-06],\n",
       "        [ 5.92652274e-12,  3.24215087e-08, -6.24694399e-07],\n",
       "        [-2.01195890e-06, -6.24694399e-07,  9.49895657e+01]]))"
      ]
     },
     "execution_count": 205,
     "metadata": {},
     "output_type": "execute_result"
    }
   ],
   "source": [
    "results"
   ]
  },
  {
   "cell_type": "code",
   "execution_count": 84,
   "id": "67769284-f121-47fd-9da7-ab77e30387d3",
   "metadata": {},
   "outputs": [
    {
     "data": {
      "text/plain": [
       "0.3449688000934983"
      ]
     },
     "execution_count": 84,
     "metadata": {},
     "output_type": "execute_result"
    }
   ],
   "source": [
    "df[df['sigma_A'] > 0.3]['sigma_A'].mean()"
   ]
  },
  {
   "cell_type": "code",
   "execution_count": 216,
   "id": "1b4f6287-9561-4e5d-91b8-dca3dc2398d0",
   "metadata": {},
   "outputs": [],
   "source": [
    "final_csv = pd.DataFrame()\n",
    "final_csv['Date'] = df.date.unique()\n",
    "final_csv['Trade'] = lst2"
   ]
  },
  {
   "cell_type": "code",
   "execution_count": 217,
   "id": "4727db95-d2a2-4563-ae99-03f6667293cd",
   "metadata": {},
   "outputs": [
    {
     "data": {
      "text/plain": [
       "0.5298013245033113"
      ]
     },
     "execution_count": 217,
     "metadata": {},
     "output_type": "execute_result"
    }
   ],
   "source": [
    "final_csv['Trade'].mean()"
   ]
  },
  {
   "cell_type": "code",
   "execution_count": 218,
   "id": "a8d070b2-981f-41d0-a038-6d14de2f28d3",
   "metadata": {},
   "outputs": [],
   "source": [
    "final_csv.to_csv('submission.csv', index = False)"
   ]
  },
  {
   "cell_type": "code",
   "execution_count": null,
   "id": "c41b2023-2676-460c-be7b-ab5a84b3eeb3",
   "metadata": {},
   "outputs": [],
   "source": []
  }
 ],
 "metadata": {
  "kernelspec": {
   "display_name": "Python 3 (ipykernel)",
   "language": "python",
   "name": "python3"
  },
  "language_info": {
   "codemirror_mode": {
    "name": "ipython",
    "version": 3
   },
   "file_extension": ".py",
   "mimetype": "text/x-python",
   "name": "python",
   "nbconvert_exporter": "python",
   "pygments_lexer": "ipython3",
   "version": "3.9.7"
  }
 },
 "nbformat": 4,
 "nbformat_minor": 5
}
